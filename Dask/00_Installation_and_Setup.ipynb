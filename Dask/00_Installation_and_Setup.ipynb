{
 "cells": [
  {
   "cell_type": "markdown",
   "id": "057efd05-a752-4b06-89b5-0d594c00fa76",
   "metadata": {
    "slideshow": {
     "slide_type": "slide"
    },
    "tags": []
   },
   "source": [
    "# [Installation](https://docs.dask.org/en/latest/install.html)\n",
    "\n",
    "Dask can be installed directly from `pip`.\n",
    "\n",
    "Unless you are an advanced user which only needs specific parts of Dask, it is recommended for you to install the full set of Dask tools, so that you install everything required for most common uses of Dask (arrays, dataframes, …). This can be done using the next command:\n",
    "\n",
    "```bash\n",
    "$ pip install \"dask[complete]\"    # Install everything\n",
    "```"
   ]
  },
  {
   "cell_type": "markdown",
   "id": "6946e25c-09d9-43af-ac24-ed41a6022486",
   "metadata": {
    "slideshow": {
     "slide_type": "slide"
    },
    "tags": []
   },
   "source": [
    "# [Setup](https://docs.dask.org/en/latest/setup.html)\n",
    "\n",
    "> *Dask is a centrally managed distributed computing platform*.\n",
    "\n",
    "That means that there is one process which runs the dask scheduler command.\n",
    "\n",
    "To route to workers diagnostics web server please install `jupyter-server-proxy`:\n",
    "\n",
    "```bash\n",
    "$ pip install jupyter-server-proxy\n",
    "```"
   ]
  },
  {
   "cell_type": "markdown",
   "id": "032f63f0-4cf9-47dc-8d50-4422aa62e5a1",
   "metadata": {
    "slideshow": {
     "slide_type": "subslide"
    },
    "tags": []
   },
   "source": [
    "Now, run `dask-scheduler` command in your terminal:\n",
    "\n",
    "```bash\n",
    "$ dask-scheduler\n",
    "\n",
    "distributed.scheduler - INFO - -----------------------------------------------\n",
    "distributed.scheduler - INFO - -----------------------------------------------\n",
    "distributed.scheduler - INFO - Clear task state\n",
    "distributed.scheduler - INFO -   Scheduler at:    tcp://xxx.xxx.x.xx:8786\n",
    "distributed.scheduler - INFO -   dashboard at:                     :8787\n",
    "```\n",
    "\n",
    "This command allows you to track all the workers that you have. So, `dask-scheduler` command tells you the ip adresses where the scheduler is, in this case it is at `tcp://xxx.xxx.x.xx:8786`. It is just one because I'm working in a single machine, but it could also be on different machines."
   ]
  },
  {
   "cell_type": "markdown",
   "id": "97961d07-b17a-40df-bfcb-cb7389170832",
   "metadata": {
    "slideshow": {
     "slide_type": "subslide"
    },
    "tags": []
   },
   "source": [
    "Now, to connect a worker, just run `dask-worker` command in a new terminal, providing the ip-address of the scheduler:\n",
    "\n",
    "```bash\n",
    "$ dask-worker tcp://xxx.xxx.x.xx:8786\n",
    "distributed.nanny - INFO -         Start Nanny at: 'tcp://xxx.xxx.x.xx:44549'\n",
    "distributed.worker - INFO -       Start worker at:    tcp://xxx.xxx.x.xx:43067\n",
    "distributed.worker - INFO -          Listening to:    tcp://xxx.xxx.x.xx:43067\n",
    "distributed.worker - INFO -          dashboard at:          xxx.xxx.x.xx:41199\n",
    "distributed.worker - INFO - Waiting to connect to:     tcp://xxx.xxx.x.xx:8786\n",
    "distributed.worker - INFO - -------------------------------------------------\n",
    "distributed.worker - INFO -               Threads:                          x\n",
    "distributed.worker - INFO -                Memory:                  xx.xx GiB\n",
    "distributed.worker - INFO -       Local Directory: /home/user/working_directory_path/dask-worker-space/worker-xxxxxxxx\n",
    "distributed.worker - INFO - -------------------------------------------------\n",
    "distributed.worker - INFO -         Registered to:     tcp://xxx.xxx.x.xx:8786\n",
    "distributed.worker - INFO - -------------------------------------------------\n",
    "distributed.core - INFO - Starting established connection\n",
    "```"
   ]
  },
  {
   "cell_type": "markdown",
   "id": "7c8aabeb-aa6f-47f0-8296-d4c5962e9217",
   "metadata": {
    "slideshow": {
     "slide_type": "subslide"
    },
    "tags": []
   },
   "source": [
    "As I connect different workers, they phone home with the scheduler. You can see this in the scheduler terminal:\n",
    "\n",
    "```bash\n",
    "distributed.scheduler - INFO - Register worker <WorkerState 'tcp://xxx.xxx.x.xx:43067', name: tcp://xxx.xxx.x.xx:43067, memory: 0, processing: 0>\n",
    "distributed.scheduler - INFO - Starting worker compute stream, tcp://xxx.xxx.x.xx:43067\n",
    "distributed.core - INFO - Starting established connection\n",
    "```\n",
    "\n",
    "And you can connect more workers."
   ]
  },
  {
   "cell_type": "markdown",
   "id": "c88b6943-c27a-40e2-aeac-afd8f31751f8",
   "metadata": {
    "slideshow": {
     "slide_type": "fragment"
    },
    "tags": []
   },
   "source": [
    "In principle, all you need to do to set up a task is to start up a schedular on one machine and workers on many others. Up to now, we did it manually, but there are a variety of tools that help you do this"
   ]
  },
  {
   "cell_type": "markdown",
   "id": "7e5f1162-88ed-41a7-bcd0-97d57116edab",
   "metadata": {
    "slideshow": {
     "slide_type": "fragment"
    },
    "tags": []
   },
   "source": [
    "Dask also has a built-in dashboard to review the information of the schedular and workers. In a browser, open the route `xxx.xxx.x.xx:8787`:"
   ]
  }
 ],
 "metadata": {
  "kernelspec": {
   "display_name": "Python 3 (ipykernel)",
   "language": "python",
   "name": "python3"
  },
  "language_info": {
   "codemirror_mode": {
    "name": "ipython",
    "version": 3
   },
   "file_extension": ".py",
   "mimetype": "text/x-python",
   "name": "python",
   "nbconvert_exporter": "python",
   "pygments_lexer": "ipython3",
   "version": "3.9.7"
  }
 },
 "nbformat": 4,
 "nbformat_minor": 5
}
