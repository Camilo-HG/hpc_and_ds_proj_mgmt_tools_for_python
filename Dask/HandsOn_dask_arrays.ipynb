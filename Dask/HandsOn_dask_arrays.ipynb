{
 "cells": [
  {
   "cell_type": "code",
   "execution_count": 1,
   "id": "latin-injury",
   "metadata": {},
   "outputs": [],
   "source": [
    "import numpy as np\n",
    "from dask import array as da"
   ]
  },
  {
   "cell_type": "markdown",
   "id": "neutral-strain",
   "metadata": {},
   "source": [
    "**Dask Arrays** interface is similar to **Numpy API**\n",
    "\n",
    "We just need to add an additional attribute `chunks`:"
   ]
  },
  {
   "cell_type": "code",
   "execution_count": 2,
   "id": "incorporate-quest",
   "metadata": {},
   "outputs": [
    {
     "data": {
      "text/plain": [
       "array([ 4,  6,  6,  5,  6,  7,  2,  3, 15, 17, 13, 11, 10, 18,  1,  6, 14,\n",
       "       10, 10,  1])"
      ]
     },
     "execution_count": 2,
     "metadata": {},
     "output_type": "execute_result"
    }
   ],
   "source": [
    "np_arr = np.random.randint(20, size=20)\n",
    "np_arr"
   ]
  },
  {
   "cell_type": "code",
   "execution_count": 3,
   "id": "maritime-developer",
   "metadata": {},
   "outputs": [
    {
     "data": {
      "text/html": [
       "<table>\n",
       "<tr>\n",
       "<td>\n",
       "<table>\n",
       "  <thead>\n",
       "    <tr><td> </td><th> Array </th><th> Chunk </th></tr>\n",
       "  </thead>\n",
       "  <tbody>\n",
       "    <tr><th> Bytes </th><td> 160 B </td> <td> 24 B </td></tr>\n",
       "    <tr><th> Shape </th><td> (20,) </td> <td> (3,) </td></tr>\n",
       "    <tr><th> Count </th><td> 7 Tasks </td><td> 7 Chunks </td></tr>\n",
       "    <tr><th> Type </th><td> int64 </td><td> numpy.ndarray </td></tr>\n",
       "  </tbody>\n",
       "</table>\n",
       "</td>\n",
       "<td>\n",
       "<svg width=\"170\" height=\"84\" style=\"stroke:rgb(0,0,0);stroke-width:1\" >\n",
       "\n",
       "  <!-- Horizontal lines -->\n",
       "  <line x1=\"0\" y1=\"0\" x2=\"120\" y2=\"0\" style=\"stroke-width:2\" />\n",
       "  <line x1=\"0\" y1=\"34\" x2=\"120\" y2=\"34\" style=\"stroke-width:2\" />\n",
       "\n",
       "  <!-- Vertical lines -->\n",
       "  <line x1=\"0\" y1=\"0\" x2=\"0\" y2=\"34\" style=\"stroke-width:2\" />\n",
       "  <line x1=\"18\" y1=\"0\" x2=\"18\" y2=\"34\" />\n",
       "  <line x1=\"36\" y1=\"0\" x2=\"36\" y2=\"34\" />\n",
       "  <line x1=\"54\" y1=\"0\" x2=\"54\" y2=\"34\" />\n",
       "  <line x1=\"72\" y1=\"0\" x2=\"72\" y2=\"34\" />\n",
       "  <line x1=\"90\" y1=\"0\" x2=\"90\" y2=\"34\" />\n",
       "  <line x1=\"108\" y1=\"0\" x2=\"108\" y2=\"34\" />\n",
       "  <line x1=\"120\" y1=\"0\" x2=\"120\" y2=\"34\" style=\"stroke-width:2\" />\n",
       "\n",
       "  <!-- Colored Rectangle -->\n",
       "  <polygon points=\"0.0,0.0 120.0,0.0 120.0,34.50101617379934 0.0,34.50101617379934\" style=\"fill:#ECB172A0;stroke-width:0\"/>\n",
       "\n",
       "  <!-- Text -->\n",
       "  <text x=\"60.000000\" y=\"54.501016\" font-size=\"1.0rem\" font-weight=\"100\" text-anchor=\"middle\" >20</text>\n",
       "  <text x=\"140.000000\" y=\"17.250508\" font-size=\"1.0rem\" font-weight=\"100\" text-anchor=\"middle\" transform=\"rotate(0,140.000000,17.250508)\">1</text>\n",
       "</svg>\n",
       "</td>\n",
       "</tr>\n",
       "</table>"
      ],
      "text/plain": [
       "dask.array<randint, shape=(20,), dtype=int64, chunksize=(3,), chunktype=numpy.ndarray>"
      ]
     },
     "execution_count": 3,
     "metadata": {},
     "output_type": "execute_result"
    }
   ],
   "source": [
    "dask_arr = da.random.randint(20, size=20, chunks=3)\n",
    "dask_arr"
   ]
  },
  {
   "cell_type": "markdown",
   "id": "organizational-springfield",
   "metadata": {},
   "source": [
    "Since dask has lazy evaluation, you can see that the array has not been computed yet.\n",
    "\n",
    "In order to force the computation, you must call the `.compute()` method:"
   ]
  },
  {
   "cell_type": "code",
   "execution_count": 4,
   "id": "normal-pontiac",
   "metadata": {},
   "outputs": [
    {
     "data": {
      "text/plain": [
       "array([13, 10, 11, 16,  2, 16, 19,  6, 16,  5, 16, 11, 14, 14,  6,  5, 17,\n",
       "        7, 17, 18])"
      ]
     },
     "execution_count": 4,
     "metadata": {},
     "output_type": "execute_result"
    }
   ],
   "source": [
    "dask_arr.compute()"
   ]
  },
  {
   "cell_type": "markdown",
   "id": "present-flush",
   "metadata": {},
   "source": [
    "You can also see chunks sizes:"
   ]
  },
  {
   "cell_type": "code",
   "execution_count": 5,
   "id": "infectious-huntington",
   "metadata": {},
   "outputs": [
    {
     "data": {
      "text/plain": [
       "((3, 3, 3, 3, 3, 3, 2),)"
      ]
     },
     "execution_count": 5,
     "metadata": {},
     "output_type": "execute_result"
    }
   ],
   "source": [
    "dask_arr.chunks"
   ]
  },
  {
   "cell_type": "markdown",
   "id": "controversial-reasoning",
   "metadata": {
    "tags": []
   },
   "source": [
    "One can also create a **dask array** from existing data in a **numpy array** (or a **list**):"
   ]
  },
  {
   "cell_type": "code",
   "execution_count": 6,
   "id": "forbidden-acrylic",
   "metadata": {},
   "outputs": [
    {
     "data": {
      "text/html": [
       "<table>\n",
       "<tr>\n",
       "<td>\n",
       "<table>\n",
       "  <thead>\n",
       "    <tr><td> </td><th> Array </th><th> Chunk </th></tr>\n",
       "  </thead>\n",
       "  <tbody>\n",
       "    <tr><th> Bytes </th><td> 80 B </td> <td> 40 B </td></tr>\n",
       "    <tr><th> Shape </th><td> (10,) </td> <td> (5,) </td></tr>\n",
       "    <tr><th> Count </th><td> 2 Tasks </td><td> 2 Chunks </td></tr>\n",
       "    <tr><th> Type </th><td> int64 </td><td> numpy.ndarray </td></tr>\n",
       "  </tbody>\n",
       "</table>\n",
       "</td>\n",
       "<td>\n",
       "<svg width=\"170\" height=\"88\" style=\"stroke:rgb(0,0,0);stroke-width:1\" >\n",
       "\n",
       "  <!-- Horizontal lines -->\n",
       "  <line x1=\"0\" y1=\"0\" x2=\"120\" y2=\"0\" style=\"stroke-width:2\" />\n",
       "  <line x1=\"0\" y1=\"38\" x2=\"120\" y2=\"38\" style=\"stroke-width:2\" />\n",
       "\n",
       "  <!-- Vertical lines -->\n",
       "  <line x1=\"0\" y1=\"0\" x2=\"0\" y2=\"38\" style=\"stroke-width:2\" />\n",
       "  <line x1=\"60\" y1=\"0\" x2=\"60\" y2=\"38\" />\n",
       "  <line x1=\"120\" y1=\"0\" x2=\"120\" y2=\"38\" style=\"stroke-width:2\" />\n",
       "\n",
       "  <!-- Colored Rectangle -->\n",
       "  <polygon points=\"0.0,0.0 120.0,0.0 120.0,38.596863036086 0.0,38.596863036086\" style=\"fill:#ECB172A0;stroke-width:0\"/>\n",
       "\n",
       "  <!-- Text -->\n",
       "  <text x=\"60.000000\" y=\"58.596863\" font-size=\"1.0rem\" font-weight=\"100\" text-anchor=\"middle\" >10</text>\n",
       "  <text x=\"140.000000\" y=\"19.298432\" font-size=\"1.0rem\" font-weight=\"100\" text-anchor=\"middle\" transform=\"rotate(0,140.000000,19.298432)\">1</text>\n",
       "</svg>\n",
       "</td>\n",
       "</tr>\n",
       "</table>"
      ],
      "text/plain": [
       "dask.array<array, shape=(10,), dtype=int64, chunksize=(5,), chunktype=numpy.ndarray>"
      ]
     },
     "execution_count": 6,
     "metadata": {},
     "output_type": "execute_result"
    }
   ],
   "source": [
    "dask_arr_from_np = da.from_array([1, 2, 3, 4, 5, 6, 7, 8, 9, 10], chunks=5)\n",
    "\n",
    "dask_arr_from_np"
   ]
  },
  {
   "cell_type": "code",
   "execution_count": null,
   "id": "undefined-firmware",
   "metadata": {},
   "outputs": [],
   "source": []
  }
 ],
 "metadata": {
  "kernelspec": {
   "display_name": "Python 3 (ipykernel)",
   "language": "python",
   "name": "python3"
  },
  "language_info": {
   "codemirror_mode": {
    "name": "ipython",
    "version": 3
   },
   "file_extension": ".py",
   "mimetype": "text/x-python",
   "name": "python",
   "nbconvert_exporter": "python",
   "pygments_lexer": "ipython3",
   "version": "3.9.6"
  }
 },
 "nbformat": 4,
 "nbformat_minor": 5
}
