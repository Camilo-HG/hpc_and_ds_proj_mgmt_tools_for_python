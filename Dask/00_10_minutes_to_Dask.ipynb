{
 "cells": [
  {
   "cell_type": "markdown",
   "id": "92f0c41a-bc74-49a4-837b-a20648b5fb82",
   "metadata": {
    "slideshow": {
     "slide_type": "slide"
    }
   },
   "source": [
    "# [10 minutes to Dask](https://docs.dask.org/en/latest/10-minutes-to-dask.html)"
   ]
  },
  {
   "cell_type": "markdown",
   "id": "8c868025",
   "metadata": {
    "slideshow": {
     "slide_type": "slide"
    }
   },
   "source": [
    "## Scheduling and diagnostics\n",
    "\n",
    "Sometimes, it comes great to have a diagnostics dashboard where you can see your tasks as they are processed."
   ]
  },
  {
   "cell_type": "markdown",
   "id": "4bd15b63",
   "metadata": {
    "slideshow": {
     "slide_type": "fragment"
    }
   },
   "source": [
    "By default when you call `compute` on a **Dask object** (i.e. after you have generated a **task graph**), Dask uses the thread pool on your computer to run computations in parallel. But if you want to get access to the **diagnostics dashboard**, then use **distributed scheduler** instead."
   ]
  },
  {
   "cell_type": "markdown",
   "id": "32be2afc",
   "metadata": {
    "slideshow": {
     "slide_type": "notes"
    }
   },
   "source": [
    "Despite having “distributed” in it’s name, the distributed scheduler works well on both single and multiple machines. Think of it as the “advanced scheduler”."
   ]
  },
  {
   "cell_type": "code",
   "execution_count": null,
   "id": "b0b94683",
   "metadata": {
    "slideshow": {
     "slide_type": "subslide"
    }
   },
   "outputs": [],
   "source": [
    "from dask.distributed import Client\n",
    "\n",
    "client = Client()\n",
    "client"
   ]
  },
  {
   "cell_type": "markdown",
   "id": "72772fbd",
   "metadata": {
    "slideshow": {
     "slide_type": "subslide"
    }
   },
   "source": [
    "This is how you connect to a cluster that is already running:\n",
    "\n",
    "```python\n",
    "from dask.distributed import Client\n",
    "\n",
    "client = Client(\"<url-of-scheduler>\")\n",
    "client\n",
    "```\n",
    "\n",
    "Output: `<Client: 'tcp://127.0.0.1:41703' processes=4 threads=12, memory=31.08 GiB>`\n",
    "\n",
    "There are a variety of ways to set up a remote cluster.\n",
    "Refer to [how to deploy dask clusters](https://docs.dask.org/en/latest/how-to/deploy-dask-clusters.html) for more information."
   ]
  },
  {
   "cell_type": "markdown",
   "id": "eae5c61d",
   "metadata": {
    "slideshow": {
     "slide_type": "slide"
    }
   },
   "source": [
    "# Dask Collections\n",
    "\n",
    "**Dask Collections** are composed of **Dask DataFrames**, **Dask Arrays** and **Dask Bags**."
   ]
  },
  {
   "cell_type": "markdown",
   "id": "049b3564-4697-4a35-8a2b-155e2a0c79f2",
   "metadata": {
    "slideshow": {
     "slide_type": "slide"
    }
   },
   "source": [
    "# Dask DataFrames"
   ]
  },
  {
   "cell_type": "code",
   "execution_count": null,
   "id": "c52d80d4",
   "metadata": {
    "slideshow": {
     "slide_type": "fragment"
    }
   },
   "outputs": [],
   "source": [
    "import numpy as np\n",
    "import pandas as pd\n",
    "\n",
    "import dask.dataframe as dd"
   ]
  },
  {
   "cell_type": "markdown",
   "id": "2c55aeb7",
   "metadata": {
    "slideshow": {
     "slide_type": "subslide"
    }
   },
   "source": [
    "Let's start with a **Pandas DataFrame**"
   ]
  },
  {
   "cell_type": "code",
   "execution_count": null,
   "id": "506e8f1a-1718-49ec-ad12-876ba6569d67",
   "metadata": {
    "slideshow": {
     "slide_type": "fragment"
    }
   },
   "outputs": [],
   "source": [
    "index = pd.date_range(\"2021-09-01\", periods=2400, freq=\"1H\")\n",
    "df = pd.DataFrame({\"a\": np.arange(2400), \"b\": list(\"abcaddbe\" * 300)}, index=index)\n",
    "df"
   ]
  },
  {
   "cell_type": "markdown",
   "id": "90d31085",
   "metadata": {
    "slideshow": {
     "slide_type": "subslide"
    }
   },
   "source": [
    "You can make a **Dask DataFrame** from scratch by supplying existing data (i.e. **df**) and optionally including information about how the chunks should be structured (i.e. the number of partitions: **npartitions**)."
   ]
  },
  {
   "cell_type": "code",
   "execution_count": null,
   "id": "6d815aed",
   "metadata": {
    "slideshow": {
     "slide_type": "fragment"
    }
   },
   "outputs": [],
   "source": [
    "ddf = dd.from_pandas(df, npartitions=10)\n",
    "ddf"
   ]
  },
  {
   "cell_type": "markdown",
   "id": "111e0b22",
   "metadata": {
    "slideshow": {
     "slide_type": "fragment"
    }
   },
   "source": [
    "Now we have a DataFrame with 2 columns and 2400 rows composed of 10 partitions where each partition has 240 rows.\n",
    "\n",
    "Each partition represents a piece of the data."
   ]
  },
  {
   "cell_type": "markdown",
   "id": "45cfd047",
   "metadata": {
    "slideshow": {
     "slide_type": "subslide"
    }
   },
   "source": [
    "Here are some key properties of a DataFrame:"
   ]
  },
  {
   "cell_type": "code",
   "execution_count": null,
   "id": "46d463e4",
   "metadata": {
    "slideshow": {
     "slide_type": "subslide"
    }
   },
   "outputs": [],
   "source": [
    "# Check the index values covered by each partition\n",
    "ddf.divisions"
   ]
  },
  {
   "cell_type": "code",
   "execution_count": null,
   "id": "982ae9f3",
   "metadata": {
    "slideshow": {
     "slide_type": "subslide"
    }
   },
   "outputs": [],
   "source": [
    "# Access a particular partition\n",
    "ddf.partitions[1]"
   ]
  },
  {
   "cell_type": "markdown",
   "id": "48668102",
   "metadata": {
    "slideshow": {
     "slide_type": "subslide"
    }
   },
   "source": [
    "### Dask DataFrames - Indexing\n",
    "\n",
    "**Dask DataFrames** are indexed the same way as **Pandas DataFrames**:"
   ]
  },
  {
   "cell_type": "code",
   "execution_count": null,
   "id": "34ca2ab6",
   "metadata": {
    "slideshow": {
     "slide_type": "subslide"
    }
   },
   "outputs": [],
   "source": [
    "df[\"2021-10-01\": \"2021-10-09 5:00\"]"
   ]
  },
  {
   "cell_type": "code",
   "execution_count": null,
   "id": "5787ee4e",
   "metadata": {
    "slideshow": {
     "slide_type": "subslide"
    }
   },
   "outputs": [],
   "source": [
    "ddf[\"2021-10-01\": \"2021-10-09 5:00\"]"
   ]
  },
  {
   "cell_type": "markdown",
   "id": "c4955aaa",
   "metadata": {
    "slideshow": {
     "slide_type": "subslide"
    }
   },
   "source": [
    "### Dask DataFrames - Computation\n",
    "\n",
    "But remember:\n",
    "\n",
    "> **Dask is lazily evaluated**. The result from a computation isn’t computed until you ask for it. Instead, a **Dask task graph** for the computation is produced.\n",
    "\n",
    "Anytime you have a Dask object and you want to get the result, call `compute` method:"
   ]
  },
  {
   "cell_type": "code",
   "execution_count": null,
   "id": "223f318e",
   "metadata": {
    "slideshow": {
     "slide_type": "fragment"
    }
   },
   "outputs": [],
   "source": [
    "ddf[\"2021-10-01\": \"2021-10-09 5:00\"].compute()"
   ]
  },
  {
   "cell_type": "markdown",
   "id": "217f199f",
   "metadata": {
    "slideshow": {
     "slide_type": "subslide"
    }
   },
   "source": [
    "**Dask DataFrames** match existing **Pandas methods**, so they should feel familiar.\n",
    "\n",
    "Take a look on all implemented methods on [Dask DataFrame API](https://docs.dask.org/en/latest/dataframe-api.html).\n",
    "\n",
    "Call the method to set up the task graph, and then call `compute` to get the result."
   ]
  },
  {
   "cell_type": "code",
   "execution_count": null,
   "id": "82d03a08",
   "metadata": {
    "slideshow": {
     "slide_type": "subslide"
    }
   },
   "outputs": [],
   "source": [
    "ddf.a.mean()"
   ]
  },
  {
   "cell_type": "code",
   "execution_count": null,
   "id": "a41f7f4d",
   "metadata": {
    "slideshow": {
     "slide_type": "fragment"
    }
   },
   "outputs": [],
   "source": [
    "ddf.a.mean().compute()"
   ]
  },
  {
   "cell_type": "code",
   "execution_count": null,
   "id": "115e25b1",
   "metadata": {
    "slideshow": {
     "slide_type": "subslide"
    }
   },
   "outputs": [],
   "source": [
    "ddf.b.unique()"
   ]
  },
  {
   "cell_type": "code",
   "execution_count": null,
   "id": "5f8bdb81",
   "metadata": {
    "slideshow": {
     "slide_type": "fragment"
    }
   },
   "outputs": [],
   "source": [
    "ddf.b.unique().compute()"
   ]
  },
  {
   "cell_type": "markdown",
   "id": "54ff7a88",
   "metadata": {
    "slideshow": {
     "slide_type": "subslide"
    }
   },
   "source": [
    "Methods can be chained together just like in **Pandas**:"
   ]
  },
  {
   "cell_type": "code",
   "execution_count": null,
   "id": "9dcb2dae",
   "metadata": {
    "slideshow": {
     "slide_type": "fragment"
    }
   },
   "outputs": [],
   "source": [
    "result = ddf[\"2021-10-01\": \"2021-10-09 5:00\"].a.cumsum() - 100\n",
    "result"
   ]
  },
  {
   "cell_type": "code",
   "execution_count": null,
   "id": "e2bbf690",
   "metadata": {
    "slideshow": {
     "slide_type": "fragment"
    }
   },
   "outputs": [],
   "source": [
    "result.compute()"
   ]
  },
  {
   "cell_type": "markdown",
   "id": "7de86d00",
   "metadata": {
    "slideshow": {
     "slide_type": "subslide"
    }
   },
   "source": [
    "In addition to triggering computation, we can inspect the **task graph** to figure out what’s going on\n",
    "\n",
    "> Please note that you need to install **graphviz** package (https://graphviz.org/download/) and then to install python wrapper (`pip install graphviz`) in order to visualize **task graph**"
   ]
  },
  {
   "cell_type": "code",
   "execution_count": null,
   "id": "654b5d5d",
   "metadata": {
    "slideshow": {
     "slide_type": "subslide"
    }
   },
   "outputs": [],
   "source": [
    "result.dask"
   ]
  },
  {
   "cell_type": "code",
   "execution_count": null,
   "id": "5b50e909",
   "metadata": {
    "slideshow": {
     "slide_type": "subslide"
    }
   },
   "outputs": [],
   "source": [
    "result.visualize()"
   ]
  },
  {
   "cell_type": "markdown",
   "id": "db85a292",
   "metadata": {
    "slideshow": {
     "slide_type": "slide"
    }
   },
   "source": [
    "# Dask Arrays"
   ]
  },
  {
   "cell_type": "code",
   "execution_count": null,
   "id": "2311ac2e",
   "metadata": {
    "slideshow": {
     "slide_type": "fragment"
    }
   },
   "outputs": [],
   "source": [
    "import numpy as np\n",
    "import pandas as pd\n",
    "\n",
    "import dask.array as da"
   ]
  },
  {
   "cell_type": "markdown",
   "id": "1d056420",
   "metadata": {
    "slideshow": {
     "slide_type": "subslide"
    }
   },
   "source": [
    "Let's start with a **Numpy Array**"
   ]
  },
  {
   "cell_type": "code",
   "execution_count": null,
   "id": "b01a72c4",
   "metadata": {
    "slideshow": {
     "slide_type": "fragment"
    }
   },
   "outputs": [],
   "source": [
    "data = np.arange(100000).reshape(200, 500)\n",
    "data"
   ]
  },
  {
   "cell_type": "markdown",
   "id": "f26f3156",
   "metadata": {
    "slideshow": {
     "slide_type": "subslide"
    }
   },
   "source": [
    "You can make a **Dask Array** from scratch by supplying existing data (i.e. **data**) and optionally including information about how the chunks should be structured:"
   ]
  },
  {
   "cell_type": "code",
   "execution_count": null,
   "id": "39d738f6",
   "metadata": {
    "slideshow": {
     "slide_type": "fragment"
    }
   },
   "outputs": [],
   "source": [
    "a = da.from_array(data, chunks=(100, 100))\n",
    "a"
   ]
  },
  {
   "cell_type": "markdown",
   "id": "55194845",
   "metadata": {
    "slideshow": {
     "slide_type": "fragment"
    }
   },
   "source": [
    "Now we have a 2D array with the shape (200, 500) composed of 10 chunks where each chunk has the shape (100, 100). Each chunk represents a piece of the data."
   ]
  },
  {
   "cell_type": "markdown",
   "id": "e55182e0",
   "metadata": {
    "slideshow": {
     "slide_type": "subslide"
    }
   },
   "source": [
    "Here are some key properties of an Array:"
   ]
  },
  {
   "cell_type": "code",
   "execution_count": null,
   "id": "923b51bf",
   "metadata": {
    "slideshow": {
     "slide_type": "fragment"
    }
   },
   "outputs": [],
   "source": [
    "# Inspect the chunks\n",
    "a.chunks"
   ]
  },
  {
   "cell_type": "code",
   "execution_count": null,
   "id": "aeb73b56",
   "metadata": {
    "slideshow": {
     "slide_type": "fragment"
    }
   },
   "outputs": [],
   "source": [
    "# Access a particular block of data\n",
    "a.blocks[1, 3]"
   ]
  },
  {
   "cell_type": "markdown",
   "id": "376cf816",
   "metadata": {
    "slideshow": {
     "slide_type": "subslide"
    }
   },
   "source": [
    "### Dask Arrays - Indexing\n",
    "\n",
    "**Dask Arrays** are indexed the same way as **Numpy Arrays**:"
   ]
  },
  {
   "cell_type": "code",
   "execution_count": null,
   "id": "c6ff014c",
   "metadata": {
    "slideshow": {
     "slide_type": "fragment"
    }
   },
   "outputs": [],
   "source": [
    "a[:50, 200]"
   ]
  },
  {
   "cell_type": "markdown",
   "id": "2a1ed738",
   "metadata": {
    "slideshow": {
     "slide_type": "subslide"
    }
   },
   "source": [
    "### Dask Arrays - Computation\n",
    "\n",
    "But remember:\n",
    "\n",
    "> **Dask is lazily evaluated**. The result from a computation isn’t computed until you ask for it. Instead, a **Dask task graph** for the computation is produced.\n",
    "\n",
    "Anytime you have a Dask object and you want to get the result, call `compute` method:"
   ]
  },
  {
   "cell_type": "code",
   "execution_count": null,
   "id": "030d5fd8",
   "metadata": {
    "slideshow": {
     "slide_type": "subslide"
    }
   },
   "outputs": [],
   "source": [
    "a.mean()"
   ]
  },
  {
   "cell_type": "code",
   "execution_count": null,
   "id": "02e39fd4",
   "metadata": {
    "slideshow": {
     "slide_type": "fragment"
    }
   },
   "outputs": [],
   "source": [
    "a.mean().compute()"
   ]
  },
  {
   "cell_type": "markdown",
   "id": "3d73f21f",
   "metadata": {
    "slideshow": {
     "slide_type": "subslide"
    }
   },
   "source": [
    "**Dask Arrays** match existing **Numpy methods**, so they should feel familiar.\n",
    "\n",
    "Take a look on all implemented methods on [Dask Array API](https://docs.dask.org/en/latest/array-api.html).\n",
    "\n",
    "Call the method to set up the task graph, and then call `compute` to get the result."
   ]
  },
  {
   "cell_type": "code",
   "execution_count": null,
   "id": "2b2b6e6f",
   "metadata": {
    "slideshow": {
     "slide_type": "subslide"
    }
   },
   "outputs": [],
   "source": [
    "np.sin(a)"
   ]
  },
  {
   "cell_type": "code",
   "execution_count": null,
   "id": "f9b9d378",
   "metadata": {
    "slideshow": {
     "slide_type": "fragment"
    }
   },
   "outputs": [],
   "source": [
    "np.sin(a).compute()"
   ]
  },
  {
   "cell_type": "code",
   "execution_count": null,
   "id": "4e1a882d",
   "metadata": {
    "slideshow": {
     "slide_type": "subslide"
    }
   },
   "outputs": [],
   "source": [
    "a.T"
   ]
  },
  {
   "cell_type": "code",
   "execution_count": null,
   "id": "be813925",
   "metadata": {
    "slideshow": {
     "slide_type": "fragment"
    }
   },
   "outputs": [],
   "source": [
    "a.T.compute()"
   ]
  },
  {
   "cell_type": "markdown",
   "id": "85fe44d1",
   "metadata": {
    "slideshow": {
     "slide_type": "subslide"
    }
   },
   "source": [
    "Methods can be chained together just like in **Numpy**:"
   ]
  },
  {
   "cell_type": "code",
   "execution_count": null,
   "id": "f8e02ab9",
   "metadata": {
    "slideshow": {
     "slide_type": "fragment"
    }
   },
   "outputs": [],
   "source": [
    "b = a.max(axis=1)[::-1] + 10\n",
    "b"
   ]
  },
  {
   "cell_type": "code",
   "execution_count": null,
   "id": "011f9456",
   "metadata": {
    "slideshow": {
     "slide_type": "fragment"
    }
   },
   "outputs": [],
   "source": [
    "b[:10].compute()"
   ]
  },
  {
   "cell_type": "markdown",
   "id": "d0cc57cd",
   "metadata": {
    "slideshow": {
     "slide_type": "subslide"
    }
   },
   "source": [
    "In addition to triggering computation, we can inspect the **task graph** to figure out what’s going on\n",
    "\n",
    "> Please note that you need to install **graphviz** package (https://graphviz.org/download/) and then to install python wrapper (`pip install graphviz`) in order to visualize **task graph**"
   ]
  },
  {
   "cell_type": "code",
   "execution_count": null,
   "id": "d1d975f6",
   "metadata": {
    "slideshow": {
     "slide_type": "subslide"
    }
   },
   "outputs": [],
   "source": [
    "b.dask"
   ]
  },
  {
   "cell_type": "code",
   "execution_count": null,
   "id": "0cb080db",
   "metadata": {
    "slideshow": {
     "slide_type": "subslide"
    }
   },
   "outputs": [],
   "source": [
    "b.visualize()"
   ]
  },
  {
   "cell_type": "markdown",
   "id": "7d23b0e7",
   "metadata": {
    "slideshow": {
     "slide_type": "slide"
    }
   },
   "source": [
    "# Dask Bags"
   ]
  },
  {
   "cell_type": "code",
   "execution_count": null,
   "id": "ac8bd45a",
   "metadata": {
    "slideshow": {
     "slide_type": "fragment"
    }
   },
   "outputs": [],
   "source": [
    "import numpy as np\n",
    "import pandas as pd\n",
    "\n",
    "import dask.bag as db"
   ]
  },
  {
   "cell_type": "code",
   "execution_count": null,
   "id": "6a7a265c",
   "metadata": {
    "slideshow": {
     "slide_type": "subslide"
    }
   },
   "outputs": [],
   "source": [
    "b = db.from_sequence([1, 2, 3, 4, 5, 6, 2, 1], npartitions=2)\n",
    "b"
   ]
  },
  {
   "cell_type": "markdown",
   "id": "bbb51a57",
   "metadata": {
    "slideshow": {
     "slide_type": "fragment"
    }
   },
   "source": [
    "Now we have a sequence with 8 items composed of 2 partitions where each partition has 4 items in it. Each partition represents a piece of the data.\n",
    "\n",
    "### Dask Bags - Indexing\n",
    "\n",
    "A Bag is an unordered collection allowing repeats. So it is like a list, but it doesn’t guarantee an ordering among elements. There is no way to index Bags since they are not ordered."
   ]
  },
  {
   "cell_type": "markdown",
   "id": "9f1be70d",
   "metadata": {
    "slideshow": {
     "slide_type": "subslide"
    }
   },
   "source": [
    "### Dask Bags - Computation\n",
    "\n",
    "But remember:\n",
    "\n",
    "> **Dask is lazily evaluated**. The result from a computation isn’t computed until you ask for it. Instead, a **Dask task graph** for the computation is produced.\n",
    "\n",
    "Anytime you have a Dask object and you want to get the result, call `compute` method:"
   ]
  },
  {
   "cell_type": "code",
   "execution_count": null,
   "id": "5d9a0abc",
   "metadata": {
    "slideshow": {
     "slide_type": "fragment"
    }
   },
   "outputs": [],
   "source": [
    "b.compute()"
   ]
  },
  {
   "cell_type": "markdown",
   "id": "c006b36e",
   "metadata": {
    "slideshow": {
     "slide_type": "subslide"
    }
   },
   "source": [
    "Dask Bag implements operations like `map`, `filter`, `fold`, and `groupby` on collections of generic Python objects:"
   ]
  },
  {
   "cell_type": "code",
   "execution_count": null,
   "id": "b3aca7e6",
   "metadata": {
    "slideshow": {
     "slide_type": "subslide"
    }
   },
   "outputs": [],
   "source": [
    "b.filter(lambda x: x % 2)"
   ]
  },
  {
   "cell_type": "code",
   "execution_count": null,
   "id": "3ab39df6",
   "metadata": {
    "slideshow": {
     "slide_type": "fragment"
    }
   },
   "outputs": [],
   "source": [
    "b.filter(lambda x: x % 2).compute()"
   ]
  },
  {
   "cell_type": "code",
   "execution_count": null,
   "id": "bb08c377",
   "metadata": {
    "slideshow": {
     "slide_type": "subslide"
    }
   },
   "outputs": [],
   "source": [
    "b.distinct()"
   ]
  },
  {
   "cell_type": "code",
   "execution_count": null,
   "id": "0a8fce3c",
   "metadata": {
    "slideshow": {
     "slide_type": "fragment"
    }
   },
   "outputs": [],
   "source": [
    "b.distinct().compute()"
   ]
  },
  {
   "cell_type": "markdown",
   "id": "9f06f833",
   "metadata": {
    "slideshow": {
     "slide_type": "subslide"
    }
   },
   "source": [
    "Methods can be chained together:"
   ]
  },
  {
   "cell_type": "code",
   "execution_count": null,
   "id": "5ff0bc97",
   "metadata": {
    "slideshow": {
     "slide_type": "fragment"
    }
   },
   "outputs": [],
   "source": [
    "c = db.zip(b, b.map(lambda x: x * 10))\n",
    "c"
   ]
  },
  {
   "cell_type": "code",
   "execution_count": null,
   "id": "44f8a40d",
   "metadata": {
    "slideshow": {
     "slide_type": "fragment"
    }
   },
   "outputs": [],
   "source": [
    "c.compute()"
   ]
  },
  {
   "cell_type": "markdown",
   "id": "5ac2da12",
   "metadata": {
    "slideshow": {
     "slide_type": "subslide"
    }
   },
   "source": [
    "In addition to triggering computation, we can inspect the **task graph** to figure out what’s going on\n",
    "\n",
    "> Please note that you need to install **graphviz** package (https://graphviz.org/download/) and then to install python wrapper (`pip install graphviz`) in order to visualize **task graph**"
   ]
  },
  {
   "cell_type": "code",
   "execution_count": null,
   "id": "e7e72957",
   "metadata": {
    "slideshow": {
     "slide_type": "subslide"
    }
   },
   "outputs": [],
   "source": [
    "c.dask"
   ]
  },
  {
   "cell_type": "code",
   "execution_count": null,
   "id": "79fd2df1",
   "metadata": {
    "slideshow": {
     "slide_type": "subslide"
    }
   },
   "outputs": [],
   "source": [
    "c.visualize()"
   ]
  },
  {
   "cell_type": "markdown",
   "id": "cd1208ad",
   "metadata": {
    "slideshow": {
     "slide_type": "slide"
    }
   },
   "source": [
    "# Low-Level Interfaces\n",
    "\n",
    "Often when parallelizing existing code bases or building custom algorithms, you run into code that is parallelizable, but isn’t just a big **DataFrame** or **Array** ... Then it comes **Dask Delayed** and **Dask Futures**"
   ]
  },
  {
   "cell_type": "markdown",
   "id": "6ee8a2ce",
   "metadata": {
    "slideshow": {
     "slide_type": "slide"
    }
   },
   "source": [
    "# Dask Delayed\n",
    "\n",
    "**Dask Delayed** let you to wrap individual function calls into a lazily constructed **task graph**:"
   ]
  },
  {
   "cell_type": "code",
   "execution_count": null,
   "id": "0407eed5",
   "metadata": {
    "slideshow": {
     "slide_type": "fragment"
    }
   },
   "outputs": [],
   "source": [
    "import dask\n",
    "\n",
    "@dask.delayed\n",
    "def inc(x):\n",
    "    return x + 1\n",
    "\n",
    "@dask.delayed\n",
    "def add(x, y):\n",
    "    return x + y\n",
    "\n",
    "a = inc(1)       # no work has happened yet\n",
    "b = inc(2)       # no work has happened yet\n",
    "c = add(a, b)    # no work has happened yet\n",
    "\n",
    "result = c.compute()  # This triggers all of the above computations\n",
    "result"
   ]
  },
  {
   "cell_type": "code",
   "execution_count": null,
   "id": "08a6adde",
   "metadata": {
    "slideshow": {
     "slide_type": "subslide"
    }
   },
   "outputs": [],
   "source": [
    "c.visualize()"
   ]
  },
  {
   "cell_type": "markdown",
   "id": "0d19644b",
   "metadata": {
    "slideshow": {
     "slide_type": "slide"
    }
   },
   "source": [
    "# Dask Futures\n",
    "\n",
    "Unlike the interfaces described so far, **Futures** are **eager**. Computation starts as soon as the function is submitted:"
   ]
  },
  {
   "cell_type": "code",
   "execution_count": null,
   "id": "83f88106",
   "metadata": {
    "slideshow": {
     "slide_type": "fragment"
    }
   },
   "outputs": [],
   "source": [
    "from dask.distributed import Client\n",
    "\n",
    "client = Client()\n",
    "\n",
    "def inc(x):\n",
    "    return x + 1\n",
    "\n",
    "def add(x, y):\n",
    "    return x + y\n",
    "\n",
    "a = client.submit(inc, 1)     # work starts immediately\n",
    "b = client.submit(inc, 2)     # work starts immediately\n",
    "c = client.submit(add, a, b)  # work starts immediately\n",
    "\n",
    "result = c.result()                # block until work finishes, then gather result\n",
    "result"
   ]
  },
  {
   "cell_type": "code",
   "execution_count": null,
   "id": "6188e38e",
   "metadata": {
    "slideshow": {
     "slide_type": "subslide"
    }
   },
   "outputs": [],
   "source": [
    "c.visualize()"
   ]
  }
 ],
 "metadata": {
  "celltoolbar": "Slideshow",
  "kernelspec": {
   "display_name": "Python 3 (ipykernel)",
   "language": "python",
   "name": "python3"
  },
  "language_info": {
   "codemirror_mode": {
    "name": "ipython",
    "version": 3
   },
   "file_extension": ".py",
   "mimetype": "text/x-python",
   "name": "python",
   "nbconvert_exporter": "python",
   "pygments_lexer": "ipython3",
   "version": "3.9.7"
  }
 },
 "nbformat": 4,
 "nbformat_minor": 5
}
